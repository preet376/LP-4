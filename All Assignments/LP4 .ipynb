{
  "nbformat": 4,
  "nbformat_minor": 0,
  "metadata": {
    "colab": {
      "name": "LP4.ipynb",
      "provenance": [],
      "collapsed_sections": [
        "SItdyrp7fJ4I",
        "uTeAg35xsXyD",
        "tLCR8txx9kVF",
        "q0vksI_OqkEg",
        "N0lpUWi75ZHZ",
        "u5xOJncj_cG5",
        "0qJuffyGEMrc",
        "PVEENFtWvPGp"
      ]
    },
    "kernelspec": {
      "name": "python3",
      "display_name": "Python 3"
    },
    "language_info": {
      "name": "python"
    }
  },
  "cells": [
    {
      "cell_type": "markdown",
      "source": [
        "# SCOA"
      ],
      "metadata": {
        "id": "3dRXNoYxfEqJ"
      }
    },
    {
      "cell_type": "markdown",
      "source": [
        "## Assignment 1\n",
        "Union, Intersection, Complement and Difference of fuzzy sets"
      ],
      "metadata": {
        "id": "SItdyrp7fJ4I"
      }
    },
    {
      "cell_type": "code",
      "source": [
        "import random\n",
        "import string"
      ],
      "metadata": {
        "id": "OsZhqfFcgGCh"
      },
      "execution_count": null,
      "outputs": []
    },
    {
      "cell_type": "code",
      "source": [
        "DEC = 2"
      ],
      "metadata": {
        "id": "hHGGokEVnLnv"
      },
      "execution_count": null,
      "outputs": []
    },
    {
      "cell_type": "code",
      "source": [
        "class FuzzySet:\n",
        "  def __init__(self):\n",
        "    self.set = dict()\n",
        "\n",
        "  def add(self, key, value):\n",
        "    self.set[key] = round(value, DEC)\n",
        "\n",
        "  def get(self, key):\n",
        "    if key in self.set.keys():\n",
        "      return self.set[key]\n",
        "    return 0\n",
        "\n",
        "  def elements(self):\n",
        "    return self.set.keys()\n",
        "\n",
        "  def __str__(self):\n",
        "    return str(self.set)\n",
        "  \n",
        "  def __repr__(self):\n",
        "    return str(self.set)\n",
        "\n",
        "  @classmethod\n",
        "  def union(cls, A, B):\n",
        "    C = FuzzySet()\n",
        "    for elem in A.elements():\n",
        "      C.add(elem, A.get(elem))\n",
        "    for elem in B.elements():\n",
        "      C.add(elem, max(B.get(elem), A.get(elem)))\n",
        "    return C\n",
        "  \n",
        "  @classmethod\n",
        "  def intersection(cls, A, B):\n",
        "    C = FuzzySet()\n",
        "    for elem in B.elements():\n",
        "      if elem in A.elements():\n",
        "        C.add(elem, min(B.get(elem), A.get(elem)))\n",
        "    return C\n",
        "\n",
        "  @classmethod\n",
        "  def difference(cls, A, B):\n",
        "    C = FuzzySet()\n",
        "    for elem in A.elements():\n",
        "      C.add(elem, min(A.get(elem), 1-B.get(elem)))\n",
        "    return C\n",
        "  \n",
        "  @classmethod\n",
        "  def complement(cls, A):\n",
        "    X = FuzzySet()\n",
        "    for elem in A.elements():\n",
        "      X.add(elem, 1 - A.get(elem))\n",
        "    return X"
      ],
      "metadata": {
        "id": "wJSLyrn0IwLo"
      },
      "execution_count": null,
      "outputs": []
    },
    {
      "cell_type": "code",
      "source": [
        "class FuzzyRelation:\n",
        "  def __init__(self, A = None, B = None):\n",
        "    self.r_set = dict()\n",
        "    if A is None or B is None:\n",
        "      return\n",
        "    for a in A.elements():\n",
        "      self.r_set[a] = dict()\n",
        "      for b in B.elements():\n",
        "        self.r_set[a][b] = min(A.get(a), B.get(b))\n",
        "\n",
        "  def row_elements(self):\n",
        "    return self.r_set.keys()\n",
        "  \n",
        "  def col_elements(self):\n",
        "    for k in self.row_elements():\n",
        "      return self.r_set[k].keys()\n",
        "    return []\n",
        "\n",
        "  def get(self, r, c):\n",
        "    if r not in self.row_elements():\n",
        "      return 0\n",
        "    if c not in self.col_elements():\n",
        "      return 0\n",
        "    return self.r_set[r][c]\n",
        "\n",
        "  def add(self, r, c, val):\n",
        "    if r not in self.row_elements():\n",
        "      self.r_set[r] = dict()\n",
        "    self.r_set[r][c] = round(val, DEC)\n",
        "  \n",
        "  def __str__(self):\n",
        "    space = 5\n",
        "    ret = \"\".center(space)\n",
        "    for c in self.col_elements():\n",
        "      ret += c.center(space)\n",
        "    ret += \"\\n\"\n",
        "    for r in self.row_elements():\n",
        "      ret += r.center(space)\n",
        "      for c in self.col_elements():\n",
        "        ret += str(self.get(r, c)).center(space)\n",
        "      ret += \"\\n\"\n",
        "    return ret\n",
        "\n",
        "  def __repr__(self):\n",
        "    space = 5\n",
        "    ret = \"\".center(space)\n",
        "    for c in self.col_elements():\n",
        "      ret += c.center(space)\n",
        "    ret += \"\\n\"\n",
        "    for r in self.row_elements():\n",
        "      ret += r.center(space)\n",
        "      for c in self.col_elements():\n",
        "        ret += str(self.get(r, c)).center(space)\n",
        "      ret += \"\\n\"\n",
        "    return ret\n",
        "  \n",
        "  @classmethod\n",
        "  def max_min_composition(cls, R1, R2):\n",
        "    R3 = FuzzyRelation()\n",
        "    for r in R1.row_elements():\n",
        "      for c in R2.col_elements():\n",
        "        val = 0\n",
        "        for k in R1.col_elements():\n",
        "          val = max(val, min(R1.get(r, k), R2.get(k, c)))\n",
        "        R3.add(r, c, val)\n",
        "    return R3"
      ],
      "metadata": {
        "id": "I-hLEHm8MHtW"
      },
      "execution_count": null,
      "outputs": []
    },
    {
      "cell_type": "code",
      "source": [
        "def init_random(Universe):\n",
        "  S = FuzzySet()\n",
        "  for c in Universe:\n",
        "    if random.choice([0, 1]):\n",
        "      S.add(c, round(random.uniform(0.1, 1), DEC))\n",
        "  return S"
      ],
      "metadata": {
        "id": "lpnbQqChmQdX"
      },
      "execution_count": null,
      "outputs": []
    },
    {
      "cell_type": "code",
      "source": [
        "S1 = init_random(string.ascii_uppercase)\n",
        "S2 = init_random(string.ascii_uppercase)\n",
        "S3 = init_random(string.ascii_uppercase)"
      ],
      "metadata": {
        "id": "wOGU6JmCVCEa"
      },
      "execution_count": null,
      "outputs": []
    },
    {
      "cell_type": "code",
      "source": [
        "print(\"S1: \", S1)\n",
        "print(\"S2: \", S2)\n",
        "print(\"S3: \", S3)"
      ],
      "metadata": {
        "id": "VMllXWr1V_GX"
      },
      "execution_count": null,
      "outputs": []
    },
    {
      "cell_type": "code",
      "source": [
        "print(\"Union: \", FuzzySet.union(S1, S2))\n",
        "print(\"Intersection: \", FuzzySet.intersection(S1, S2))\n",
        "print(\"Difference: \", FuzzySet.difference(S1, S2))\n",
        "print(\"Complement: \", FuzzySet.complement(S1))"
      ],
      "metadata": {
        "id": "0sAMChg4WQus"
      },
      "execution_count": null,
      "outputs": []
    },
    {
      "cell_type": "code",
      "source": [
        "A = init_random(string.ascii_uppercase)\n",
        "B = init_random(string.digits)\n",
        "C = init_random(string.ascii_lowercase)"
      ],
      "metadata": {
        "id": "6Qcdati-Zdzu"
      },
      "execution_count": null,
      "outputs": []
    },
    {
      "cell_type": "code",
      "source": [
        "print(\"A: \", A)\n",
        "print(\"B: \", B)\n",
        "print(\"C: \", C)"
      ],
      "metadata": {
        "id": "qC3l2BVJ-H2e"
      },
      "execution_count": null,
      "outputs": []
    },
    {
      "cell_type": "code",
      "source": [
        "R1 = FuzzyRelation(A, B)\n",
        "R2 = FuzzyRelation(B, C)"
      ],
      "metadata": {
        "id": "qzp9PtjOZQpY"
      },
      "execution_count": null,
      "outputs": []
    },
    {
      "cell_type": "code",
      "source": [
        "print(\"R1\")\n",
        "print(R1)\n",
        "print(\"R2\")\n",
        "print(R2)"
      ],
      "metadata": {
        "id": "RHuMxegwbX9l"
      },
      "execution_count": null,
      "outputs": []
    },
    {
      "cell_type": "code",
      "source": [
        "print(FuzzyRelation.max_min_composition(R1, R2))"
      ],
      "metadata": {
        "id": "-ZMpHwwwZVsu",
        "collapsed": true
      },
      "execution_count": null,
      "outputs": []
    },
    {
      "cell_type": "markdown",
      "source": [
        "## Assignment 2:\n",
        "Implement genetic algorithm for benchmark function"
      ],
      "metadata": {
        "id": "uTeAg35xsXyD"
      }
    },
    {
      "cell_type": "code",
      "source": [
        "import random"
      ],
      "metadata": {
        "id": "GUxUS7pfsruu"
      },
      "execution_count": null,
      "outputs": []
    },
    {
      "cell_type": "code",
      "source": [
        "def decimalToBinary(n):\n",
        "    return \"{0:b}\".format(int(n)).rjust(CHROMOSOME_LENGTH,\"0\")\n",
        "def binaryToDecimal(n):\n",
        "    return int(n,2)"
      ],
      "metadata": {
        "id": "qrszY8wjuFe1"
      },
      "execution_count": null,
      "outputs": []
    },
    {
      "cell_type": "code",
      "source": [
        "def toss(p):\n",
        "  return random.randint(0, 100) <= p"
      ],
      "metadata": {
        "id": "FsiCuogU2vG-"
      },
      "execution_count": null,
      "outputs": []
    },
    {
      "cell_type": "code",
      "source": [
        "def get_best_individual(individuals):\n",
        "  best_individual = individuals[0]\n",
        "  for i in individuals:\n",
        "    if i.get_fitness() > best_individual.get_fitness():\n",
        "      best_individual = i\n",
        "  return best_individual"
      ],
      "metadata": {
        "id": "FQhlmBbwpnID"
      },
      "execution_count": null,
      "outputs": []
    },
    {
      "cell_type": "code",
      "source": [
        "class Individual:\n",
        "  def __init__(self, chromosome):\n",
        "    self.chromosome = chromosome\n",
        "    self.value = binaryToDecimal(chromosome)\n",
        "    self.length = len(chromosome)\n",
        "\n",
        "  def get_fitness(self):\n",
        "    return -(A - self.value)*(A - self.value)\n",
        "  \n",
        "  def mutate(self):\n",
        "    new_chromosome = self.chromosome\n",
        "    for i in range(self.length-2):\n",
        "      if toss(MUTATION_PROBABILITY):\n",
        "        bit = \"0\"\n",
        "        if new_chromosome[i] == \"0\":\n",
        "          bit = \"1\"\n",
        "        new_chromosome = new_chromosome[:i] + bit + new_chromosome[i+1:]\n",
        "    if toss(MUTATION_PROBABILITY):\n",
        "      bit = \"0\"\n",
        "      if new_chromosome[i] == \"0\":\n",
        "        bit = \"1\"\n",
        "      new_chromosome = new_chromosome[:-1] + bit\n",
        "    self.chromosome = new_chromosome\n",
        "    self.value = binaryToDecimal(self.chromosome)\n",
        "\n",
        "  def __str__(self):\n",
        "    ret = \"\"\"\n",
        "{\n",
        "    \"chromosome\":\"\"\" + self.chromosome +\"\"\"\n",
        "    \"fitness\":\"\"\" + str(self.get_fitness()) +\"\"\"\n",
        "}\"\"\"\n",
        "    return ret\n",
        "  \n",
        "  def __repr__(self):\n",
        "    return self.chromosome\n",
        "\n",
        "  @classmethod\n",
        "  def gen_chromosome(cls, chromosome_length):\n",
        "    chromosome = \"\".join([random.choice([\"0\", \"1\"]) for _ in range(chromosome_length)])\n",
        "    return chromosome\n",
        "\n",
        "  @classmethod\n",
        "  def crossover(cls, individual1, individual2):\n",
        "    k = random.randint(1, individual1.length - 2)\n",
        "    new_chromosome1 = individual1.chromosome[:k] + individual2.chromosome[k:]\n",
        "    new_chromosome2 = individual2.chromosome[:k] + individual1.chromosome[k:]\n",
        "    return Individual(new_chromosome1), Individual(new_chromosome2)\n"
      ],
      "metadata": {
        "id": "qr29vTFRvQRs"
      },
      "execution_count": null,
      "outputs": []
    },
    {
      "cell_type": "code",
      "source": [
        "POPULATION_SIZE = 10\n",
        "\n",
        "CHROMOSOME_LENGTH = 8\n",
        "\n",
        "TOURNAMENT_SIZE = 2\n",
        "\n",
        "CROSSOVER_PROBABILITY = 70\n",
        "MUTATION_PROBABILITY = 10\n",
        "\n",
        "NUM_GENERATIONS = 1000"
      ],
      "metadata": {
        "id": "uMplslZrsxO2"
      },
      "execution_count": null,
      "outputs": []
    },
    {
      "cell_type": "code",
      "source": [
        "A = 100 # f(x) = (x-a)^2"
      ],
      "metadata": {
        "id": "Q2zwCzsQ0Kvg"
      },
      "execution_count": null,
      "outputs": []
    },
    {
      "cell_type": "code",
      "source": [
        "population = [Individual(Individual.gen_chromosome(CHROMOSOME_LENGTH)) for _ in range(POPULATION_SIZE)]\n",
        "overall_best_individual = population[0]"
      ],
      "metadata": {
        "id": "-gEcvis4vulC"
      },
      "execution_count": null,
      "outputs": []
    },
    {
      "cell_type": "code",
      "source": [
        "for _ in range(NUM_GENERATIONS):\n",
        "  sampled_individuals = []\n",
        "  for _ in range(0, POPULATION_SIZE):\n",
        "    tournament_individuals = random.sample(population, TOURNAMENT_SIZE)\n",
        "    best_individual = get_best_individual(tournament_individuals)\n",
        "    sampled_individuals.append(best_individual)\n",
        "  for i in range(0, POPULATION_SIZE, 2):\n",
        "    if toss(CROSSOVER_PROBABILITY):\n",
        "      individual1, individual2 = sampled_individuals[i], sampled_individuals[i+1]\n",
        "      child1, child2 = Individual.crossover(individual1, individual2)\n",
        "      sampled_individuals[i] = child1\n",
        "      sampled_individuals[i+1] = child2\n",
        "  population = sampled_individuals\n",
        "  for i in range(POPULATION_SIZE):\n",
        "    population[i].mutate()\n",
        "  if get_best_individual(population).get_fitness() > overall_best_individual.get_fitness():\n",
        "    overall_best_individual = get_best_individual(population)"
      ],
      "metadata": {
        "id": "ZpV8ayLTA7tj"
      },
      "execution_count": null,
      "outputs": []
    },
    {
      "cell_type": "code",
      "source": [
        "cur_best_individual = get_best_individual(population)\n",
        "print(\"Current best individual:\", cur_best_individual)\n",
        "# print(population)\n",
        "print(\"Overall best individual:\", overall_best_individual)"
      ],
      "metadata": {
        "id": "kxxTQtAeqxO_"
      },
      "execution_count": null,
      "outputs": []
    },
    {
      "cell_type": "markdown",
      "source": [
        "## Assignment 3\n",
        "Particle swarm optimization for benchmark function"
      ],
      "metadata": {
        "id": "tLCR8txx9kVF"
      }
    },
    {
      "cell_type": "code",
      "source": [
        "import numpy as np"
      ],
      "metadata": {
        "id": "EO1wL6RKOlEw"
      },
      "execution_count": null,
      "outputs": []
    },
    {
      "cell_type": "code",
      "source": [
        "np.random.seed(42)"
      ],
      "metadata": {
        "id": "qQ5cvjgvo8EC"
      },
      "execution_count": null,
      "outputs": []
    },
    {
      "cell_type": "code",
      "source": [
        "class Particle:\n",
        "  def __init__(self):\n",
        "    self.fitness = round(np.random.rand(), 2)\n",
        "    self.bfitness = round(np.random.rand(), 2)\n",
        "    self.position = round(np.random.rand(), 2)\n",
        "    self.bposition = round(np.random.rand(), 2)\n",
        "    self.velocity = round(np.random.rand(), 2)\n",
        "\n",
        "  def getFitness(self):\n",
        "    return round(self.position*self.position, 2)\n",
        "\n",
        "  def updateVelocity(self, overall_b_position):\n",
        "    r1 = np.random.rand()\n",
        "    r2 = np.random.rand()\n",
        "    self.velocity = w*self.velocity + c1*r1*(self.bposition - self.position) + c2*r2*(overall_b_position - self.position)\n",
        "\n",
        "  def updatePosition(self):\n",
        "    self.position += self.velocity\n",
        "    self.position = round(max(MIN, min(self.position, MAX)), 2)\n",
        "  \n",
        "  def update(self, overall_b_position):\n",
        "    self.updateVelocity(overall_b_position)\n",
        "    self.updatePosition()\n",
        "    if self.getFitness() > self.bfitness:\n",
        "      self.bposition = self.position\n",
        "      self.bfitness = self.getFitness()\n",
        "    return self.bfitness\n",
        "\n",
        "  def getBPosition(self):\n",
        "    return self.bposition\n",
        "  \n",
        "  def getBFitness(self):\n",
        "    return self.bfitness\n",
        "\n",
        "  def printString(self):\n",
        "    ret = f\"Fitness: {self.getFitness()}, bestFitness: {self.bfitness}\"\n",
        "    return ret;"
      ],
      "metadata": {
        "id": "nmzN8EUrKwAI"
      },
      "execution_count": null,
      "outputs": []
    },
    {
      "cell_type": "code",
      "source": [
        "MIN = 0\n",
        "MAX = 20"
      ],
      "metadata": {
        "id": "7f9W2VF8Nf0U"
      },
      "execution_count": null,
      "outputs": []
    },
    {
      "cell_type": "code",
      "source": [
        "w1 = 0.9\n",
        "w2 = 0.4\n",
        "c1 = 2\n",
        "c2 = 2"
      ],
      "metadata": {
        "id": "thIK60POMfJa"
      },
      "execution_count": null,
      "outputs": []
    },
    {
      "cell_type": "code",
      "source": [
        "POPULATION_SIZE = 10\n",
        "NUM_ITERS = 10"
      ],
      "metadata": {
        "id": "ZmMFl4HoORBf"
      },
      "execution_count": null,
      "outputs": []
    },
    {
      "cell_type": "code",
      "source": [
        "w = (w2-w1)/(NUM_ITERS-1)"
      ],
      "metadata": {
        "id": "VZKR3u5IlNdE"
      },
      "execution_count": null,
      "outputs": []
    },
    {
      "cell_type": "code",
      "source": [
        "swarm = [Particle() for _ in range(POPULATION_SIZE)]\n",
        "best_particle = swarm[0]"
      ],
      "metadata": {
        "id": "Z2nbZMK1O31X"
      },
      "execution_count": null,
      "outputs": []
    },
    {
      "cell_type": "code",
      "source": [
        "for iter in range(NUM_ITERS):\n",
        "  print(\"Iteration \", iter)\n",
        "  for i in range(len(swarm)):\n",
        "    fitness = swarm[i].update(best_particle.getBPosition())\n",
        "    print(\"\\tParticle \", i, \": \", swarm[i].printString())\n",
        "    if fitness > best_particle.getBFitness():\n",
        "      best_particle = swarm[i]\n",
        "  print(\"Best Particle: \", best_particle.printString())\n",
        "  print()"
      ],
      "metadata": {
        "id": "ndx9cYq4O-HM"
      },
      "execution_count": null,
      "outputs": []
    },
    {
      "cell_type": "markdown",
      "source": [
        "## Assignment 4\n",
        "Logic gates using Mc-Culoch-Pitts"
      ],
      "metadata": {
        "id": "q0vksI_OqkEg"
      }
    },
    {
      "cell_type": "code",
      "source": [
        "from abc import ABC, abstractmethod"
      ],
      "metadata": {
        "id": "0b2qS6kEru7G"
      },
      "execution_count": null,
      "outputs": []
    },
    {
      "cell_type": "code",
      "source": [
        "class Neuron(ABC):\n",
        "  def __init__(self, weights):\n",
        "    self.weights = weights\n",
        "\n",
        "  def linearFunction(self, input_vector):\n",
        "    val = self.weights[0]\n",
        "    for i in range(2):\n",
        "      val += input_vector[i] * self.weights[i+1]\n",
        "    return val\n",
        "\n",
        "  @abstractmethod\n",
        "  def thresholdFunction(self, input_value):\n",
        "    pass\n",
        "\n",
        "  def process(self, input_vector):\n",
        "    return self.thresholdFunction(self.linearFunction(input_vector))"
      ],
      "metadata": {
        "id": "ZpQ6wpIorx6M"
      },
      "execution_count": null,
      "outputs": []
    },
    {
      "cell_type": "code",
      "source": [
        "class ANDGate(Neuron):\n",
        "  def __init__(self):\n",
        "    super().__init__([-3, 2, 2])\n",
        "\n",
        "  def thresholdFunction(self, value):\n",
        "    return value > 0"
      ],
      "metadata": {
        "id": "4a2YjvMnsRY0"
      },
      "execution_count": null,
      "outputs": []
    },
    {
      "cell_type": "code",
      "source": [
        "class ORGate(Neuron):\n",
        "  def __init__(self):\n",
        "    super().__init__([0, 1, 1])\n",
        "\n",
        "  def thresholdFunction(self, value):\n",
        "    return value >= 1"
      ],
      "metadata": {
        "id": "glqwV4Mrvw4G"
      },
      "execution_count": null,
      "outputs": []
    },
    {
      "cell_type": "code",
      "source": [
        "class XORGate(Neuron):\n",
        "  def __init__(self):\n",
        "    super().__init__([0, -1, 1])\n",
        "\n",
        "  def thresholdFunction(self, value):\n",
        "    return value != 0"
      ],
      "metadata": {
        "id": "3AyWuZUmv156"
      },
      "execution_count": null,
      "outputs": []
    },
    {
      "cell_type": "code",
      "source": [
        "class NORGate(Neuron):\n",
        "  def __init__(self):\n",
        "    super().__init__([0, 1, 1])\n",
        "\n",
        "  def thresholdFunction(self, value):\n",
        "    return value == 0"
      ],
      "metadata": {
        "id": "0aSMVwOCzHGv"
      },
      "execution_count": null,
      "outputs": []
    },
    {
      "cell_type": "code",
      "source": [
        "class NANDGate(Neuron):\n",
        "  def __init__(self):\n",
        "    super().__init__([-3, 2, 2])\n",
        "\n",
        "  def thresholdFunction(self, value):\n",
        "    return value < 0"
      ],
      "metadata": {
        "id": "iITEtaRCzkwZ"
      },
      "execution_count": null,
      "outputs": []
    },
    {
      "cell_type": "code",
      "source": [
        "gates = [\n",
        "         ANDGate(),\n",
        "         ORGate(),\n",
        "         XORGate(),\n",
        "         NORGate(),\n",
        "         NANDGate()\n",
        "]"
      ],
      "metadata": {
        "id": "vaXhkjGxzpSX"
      },
      "execution_count": null,
      "outputs": []
    },
    {
      "cell_type": "code",
      "source": [
        "inputs = [\n",
        "          [False, False],\n",
        "          [False, True],\n",
        "          [True, False],\n",
        "          [True, True]\n",
        "]"
      ],
      "metadata": {
        "id": "ava18pV2z3Ke"
      },
      "execution_count": null,
      "outputs": []
    },
    {
      "cell_type": "code",
      "source": [
        "for gate in gates:\n",
        "  print(type(gate).__name__, \"outputs:\")\n",
        "  for input in inputs:\n",
        "    print(\"\\t\", input, \"->\", gate.process(input))\n",
        "  print()"
      ],
      "metadata": {
        "id": "_2kN7TdG0Mwl"
      },
      "execution_count": null,
      "outputs": []
    },
    {
      "cell_type": "markdown",
      "source": [
        "## Assignment 5\n",
        "Boolean functions using Single Layer Perceptron"
      ],
      "metadata": {
        "id": "N0lpUWi75ZHZ"
      }
    },
    {
      "cell_type": "code",
      "source": [
        "import numpy as np"
      ],
      "metadata": {
        "id": "tXqQ5mRg_O3z"
      },
      "execution_count": null,
      "outputs": []
    },
    {
      "cell_type": "code",
      "source": [
        "class Perceptron:\n",
        "\n",
        "  def __init__(self, input_size):\n",
        "    self.input_size = input_size\n",
        "    self.w = [np.random.rand() for _ in range(input_size)]\n",
        "    self.b = np.random.rand()\n",
        "  def __activation(self, y):\n",
        "    return int(y >= 0)\n",
        "\n",
        "  def __forward_prop(self, X):\n",
        "    z = self.b\n",
        "    for i in range(self.input_size):\n",
        "      z += self.w[i] * X[i]\n",
        "    return z\n",
        "\n",
        "  def __backward_prop(self, X, y, y_hat, learning_rate):\n",
        "    delta_w = learning_rate * (y - y_hat)\n",
        "    for i in range(self.input_size):\n",
        "      delta_wi = delta_w*X[i]\n",
        "      self.w[i] += delta_wi\n",
        "    delta_b = delta_w\n",
        "    self.b += delta_b\n",
        "\n",
        "  def __train(self, X, y, learning_rate):\n",
        "    z = self.__forward_prop(X)\n",
        "    y_hat = self.__activation(z)\n",
        "    self.__backward_prop(X, y, y_hat, learning_rate)\n",
        "    \n",
        "\n",
        "  def fit(self, X, y, learning_rate, epochs = 5):\n",
        "    for _ in range(epochs):\n",
        "      for i in range(len(X)):\n",
        "        self.__train(X[i], y[i], learning_rate)\n",
        "\n",
        "  def predict(self, X):\n",
        "    z = self.__forward_prop(X)\n",
        "    return self.__activation(z)"
      ],
      "metadata": {
        "id": "R8vThClb5xg4"
      },
      "execution_count": null,
      "outputs": []
    },
    {
      "cell_type": "code",
      "source": [
        "X = [\n",
        "     [0, 0],\n",
        "     [0, 1],\n",
        "     [1, 0],\n",
        "     [1, 1]\n",
        "]"
      ],
      "metadata": {
        "id": "YzZyELCh9PxM"
      },
      "execution_count": null,
      "outputs": []
    },
    {
      "cell_type": "code",
      "source": [
        "bool_functions = [\n",
        "      Perceptron(2), # OR\n",
        "      Perceptron(2), # AND\n",
        "      Perceptron(2), # NOR\n",
        "      Perceptron(2), # NAND\n",
        "]"
      ],
      "metadata": {
        "id": "Zj6n8dgW8WH-"
      },
      "execution_count": null,
      "outputs": []
    },
    {
      "cell_type": "code",
      "source": [
        "y = [\n",
        "      [0, 1, 1, 1],\n",
        "      [0, 0, 0, 1],\n",
        "      [1, 0, 0, 0],\n",
        "      [1, 1, 1, 0]\n",
        "]"
      ],
      "metadata": {
        "id": "IiSL6RVg9pCH"
      },
      "execution_count": null,
      "outputs": []
    },
    {
      "cell_type": "code",
      "source": [
        "for i in range(len(bool_functions)):\n",
        "  bool_function = bool_functions[i]\n",
        "  input = X[:]\n",
        "  output = y[i][:]\n",
        "  bool_function.fit(input, output, 0.01, epochs=100)\n",
        "  for inputi in input:\n",
        "    print(inputi, \"->\", bool_function.predict(inputi))\n",
        "  print()"
      ],
      "metadata": {
        "id": "OtDEG2kl-CjZ"
      },
      "execution_count": null,
      "outputs": []
    },
    {
      "cell_type": "markdown",
      "source": [
        "## Assignment 7\n",
        "Single hidden layer neural network"
      ],
      "metadata": {
        "id": "u5xOJncj_cG5"
      }
    },
    {
      "cell_type": "code",
      "source": [
        "import numpy as np"
      ],
      "metadata": {
        "id": "V6BbNPJ_QIsi"
      },
      "execution_count": null,
      "outputs": []
    },
    {
      "cell_type": "code",
      "source": [
        "class NeuralNetwork:\n",
        "  def __init__(self, input_nodes, hidden_nodes):\n",
        "    self.layers = [input_nodes, hidden_nodes, 1]\n",
        "    self.__init_weights()\n",
        "\n",
        "  def __init_weights(self):\n",
        "    self.W = np.array([None for _ in range(len(self.layers) - 1)])\n",
        "    self.b = np.array([None for _ in range(len(self.layers) - 1)])\n",
        "    for i in range(len(self.layers) - 1):\n",
        "      self.W[i] = np.ones((self.layers[i+1], self.layers[i]))\n",
        "      self.b[i] = np.zeros((self.layers[i+1]))\n",
        "\n",
        "  def __train(self, X, y):\n",
        "    a = np.array([None for _ in range(len(self.layers) - 1)])\n",
        "    a[0] = X.copy()\n",
        "    a[1] = np.dot(self.W[0], a[0]) + self.b[0]\n",
        "    \n",
        "    self.W[1] -= -a[1]\n",
        "    self.b[1] -= -1\n",
        "    for i in range(len(a[0])):\n",
        "      self.W[0][:, i] -= -np.sum(self.W[1] * a[0][i], axis = 0)\n",
        "    self.b[0] -= -1\n",
        "\n",
        "  def fit(self, X, y):\n",
        "    for i in range(len(X)):\n",
        "      self.__train(X[i], y[i])"
      ],
      "metadata": {
        "id": "16iSCS2sQM7Z"
      },
      "execution_count": null,
      "outputs": []
    },
    {
      "cell_type": "code",
      "source": [
        "model = NeuralNetwork(2, 2)"
      ],
      "metadata": {
        "id": "QCCiRdg55b75"
      },
      "execution_count": null,
      "outputs": []
    },
    {
      "cell_type": "code",
      "source": [
        "model.fit([\n",
        "           np.array([1, 0])\n",
        "], [1])"
      ],
      "metadata": {
        "id": "UyMUyW-25cAa"
      },
      "execution_count": null,
      "outputs": []
    },
    {
      "cell_type": "code",
      "source": [
        "print(f'Value of W11: {model.W[0][0,0]}')"
      ],
      "metadata": {
        "id": "7TaLlg236Ua4"
      },
      "execution_count": null,
      "outputs": []
    },
    {
      "cell_type": "markdown",
      "source": [
        "## Assignment 8\n",
        "Particle Swarm Optimization on Travelling Salesman Problem"
      ],
      "metadata": {
        "id": "0qJuffyGEMrc"
      }
    },
    {
      "cell_type": "code",
      "source": [
        "import random"
      ],
      "metadata": {
        "id": "fdRPLPhHFL2J"
      },
      "execution_count": null,
      "outputs": []
    },
    {
      "cell_type": "code",
      "source": [
        "def toss(p):\n",
        "  return random.randint(0, 100) <= p"
      ],
      "metadata": {
        "id": "DTnegAW0FJDA"
      },
      "execution_count": null,
      "outputs": []
    },
    {
      "cell_type": "code",
      "source": [
        "class SwapOperator:\n",
        "  def __init__(self, i, j):\n",
        "    self.i = i\n",
        "    self.j = j\n",
        "  \n",
        "  def get_max(self):\n",
        "    return max(self.i, self.j)\n",
        "\n",
        "  def __str__(self):\n",
        "    pair = (self.i, self.j)\n",
        "    return str(pair)\n",
        "\n",
        "  def __repr__(self):\n",
        "    pair = (self.i, self.j)\n",
        "    return str(pair)"
      ],
      "metadata": {
        "id": "gRIbyqjBEZ-7"
      },
      "execution_count": null,
      "outputs": []
    },
    {
      "cell_type": "code",
      "source": [
        "class SwapSequence:\n",
        "  def __init__(self, seq):\n",
        "    self.seq = seq # List of SwapOperator objects\n",
        "\n",
        "  def iterate(self):\n",
        "    for so in self.seq:\n",
        "      yield so\n",
        "  \n",
        "  def add_swap_operator(self, so):\n",
        "    self.seq.append(so)\n",
        "\n",
        "  def get_highest_index(self):\n",
        "    hi = 0\n",
        "    for so in self.seq:\n",
        "      hi = max(hi, so.get_max())\n",
        "    return hi\n",
        "\n",
        "  def copy(self):\n",
        "    ret = []\n",
        "    for so in self.seq:\n",
        "      ret.append(SwapOperator(so.i, so.j))\n",
        "    return SwapSequence(ret)\n",
        "\n",
        "  def __add__(self, b): # Returns *Basic SwapSequence* that is equivalent to list(Sequence a) + list(Sequence b)\n",
        "    c_seq = self.seq + b.seq\n",
        "    c = SwapSequence(c_seq)\n",
        "    n = c.get_highest_index() + 1\n",
        "\n",
        "    initial_solution = Solution.gen_random_Solution(n)\n",
        "    resultant_solution = initial_solution.add(c)\n",
        "\n",
        "    return resultant_solution.sub(initial_solution)\n",
        "\n",
        "  def __str__(self):\n",
        "    return str(self.seq)"
      ],
      "metadata": {
        "id": "gxY4WVmiE3FY"
      },
      "execution_count": null,
      "outputs": []
    },
    {
      "cell_type": "code",
      "source": [
        "class Solution:\n",
        "  def __init__(self, perm):\n",
        "    self.perm = perm # A basic permutation\n",
        "\n",
        "  def __add_SO(self, so, p):\n",
        "    ret = self.copy()\n",
        "    if toss(p):\n",
        "      ret.perm[so.i], ret.perm[so.j] = ret.perm[so.j], ret.perm[so.i]\n",
        "    return ret\n",
        "\n",
        "  def __add_SS(self, ss, p):\n",
        "    ret = self.copy()\n",
        "    for so in ss.iterate():\n",
        "      ret = ret.add(so, p)\n",
        "    return ret\n",
        "\n",
        "  def add(self, obj, p = 100):\n",
        "    if isinstance(obj, SwapOperator):\n",
        "      return self.__add_SO(obj, p)\n",
        "    elif isinstance(obj, SwapSequence):\n",
        "      return self.__add_SS(obj, p)\n",
        "    else: return None\n",
        "  \n",
        "  def sub(self, b, p = 100):\n",
        "    b = b.copy()\n",
        "    a = self.copy()\n",
        "    n = len(a.perm)\n",
        "    ss = []\n",
        "    for i in range(n):\n",
        "      for j in range(n):\n",
        "        if a.perm[i] == b.perm[j]:\n",
        "          if i != j:\n",
        "            so = SwapOperator(i, j)\n",
        "            ss.append(so)\n",
        "            b = b.add(so, p)\n",
        "          else:\n",
        "            break\n",
        "    return SwapSequence(ss)\n",
        "\n",
        "  def get(self, ind):\n",
        "    return self.perm[ind]\n",
        "\n",
        "  def copy(self):\n",
        "    return Solution(self.perm[:])\n",
        "\n",
        "  def __str__(self):\n",
        "    return str(self.perm)\n",
        "\n",
        "  def __eq__(self, b):\n",
        "    for i in range(len(self.perm)):\n",
        "      if self.get(i) != b.get(i):\n",
        "        return False\n",
        "    return True\n",
        "\n",
        "  @classmethod\n",
        "  def gen_random_Solution(cls, n):\n",
        "    perm = [i for i in range(n)]\n",
        "    random.shuffle(perm)\n",
        "    return Solution(perm)"
      ],
      "metadata": {
        "id": "jAO1QjI4Eq5b"
      },
      "execution_count": null,
      "outputs": []
    },
    {
      "cell_type": "code",
      "source": [
        "class Particle:\n",
        "  def __init__(self, position, velocity, tsp):\n",
        "    self.position = position\n",
        "    self.p_best = self.position.copy()\n",
        "    self.velocity = velocity\n",
        "    self.fitness = tsp.apply_solution(position)\n",
        "    self.p_best_fitness = self.fitness\n",
        "\n",
        "  def get_fitness(self):\n",
        "    return self.fitness\n",
        "  \n",
        "  def get_position(self):\n",
        "    return self.position\n",
        "\n",
        "  def get_p_best(self):\n",
        "    return self.p_best\n",
        "\n",
        "  def get_p_best_fitness(self):\n",
        "    return self.p_best_fitness\n",
        "  \n",
        "  def update_velocity(self, g_best, alpha, beta):\n",
        "    ini = self.velocity.copy()\n",
        "    term1 = self.p_best.sub(self.position, alpha)\n",
        "    term2 = g_best.sub(self.position, beta)\n",
        "    self.velocity += term1 + term2\n",
        "\n",
        "  def update_position(self, tsp):\n",
        "    initial = self.position\n",
        "    new = self.position.add(self.velocity)\n",
        "\n",
        "    n_fitness = tsp.apply_solution(new)\n",
        "\n",
        "    if n_fitness < self.get_p_best_fitness():\n",
        "      self.p_best = new.copy()\n",
        "      self.p_best_fitness = n_fitness\n",
        "\n",
        "    self.fitness = n_fitness\n",
        "    self.position = new\n",
        "\n",
        "  def __str__(self):\n",
        "    ret = f\"Particle: {self.position}, fitness: {self.get_fitness()}, best_fitness: {self.get_p_best_fitness()}\"\n",
        "    return ret\n",
        "  \n",
        "  def __repr__(self):\n",
        "    ret = f\"Particle: {self.position}, fitness: {self.get_fitness()}, best_fitness: {self.get_p_best_fitness()}\"\n",
        "    return ret\n",
        "\n",
        "  @classmethod\n",
        "  def gen_random_Particle(self, n, tsp):\n",
        "    position = Solution.gen_random_Solution(n)\n",
        "    velocity = Solution.gen_random_Solution(n).sub(Solution.gen_random_Solution(n))\n",
        "    return Particle(position, velocity, tsp)"
      ],
      "metadata": {
        "id": "2LH3TsAiRLEU"
      },
      "execution_count": null,
      "outputs": []
    },
    {
      "cell_type": "code",
      "source": [
        "class TSP:\n",
        "  def __init__(self, g):\n",
        "    self.g = g\n",
        "    self.n = len(g)\n",
        "\n",
        "  def apply_solution(self, s):\n",
        "    cost = 0\n",
        "    for i in range(self.n):\n",
        "      cost += self.g[s.get(i)][s.get((i + 1) % self.n)]\n",
        "    return cost\n",
        "  \n",
        "  @classmethod\n",
        "  def gen_random_TSP(cls, n, soln):\n",
        "    ret = []\n",
        "    for i in range(n):\n",
        "      row = []\n",
        "      for j in range(n):\n",
        "        row.append(random.randint(2, 10))\n",
        "      ret.append(row)\n",
        "      ret[i][i] = 0\n",
        "    soln = soln.perm\n",
        "    for i in range(n):\n",
        "      ret[soln[i]][soln[(i+1)%n]] = 1\n",
        "    return TSP(ret)"
      ],
      "metadata": {
        "id": "eQsGqMyXkuK8"
      },
      "execution_count": null,
      "outputs": []
    },
    {
      "cell_type": "code",
      "source": [
        "def get_g_best(particles, g_best):\n",
        "  g_best, g_best_fitness = g_best\n",
        "  for particle in particles:\n",
        "    if particle.get_p_best_fitness() < g_best_fitness:\n",
        "      g_best = particle.get_p_best().copy()\n",
        "      g_best_fitness = particle.get_p_best_fitness()\n",
        "  return g_best, g_best_fitness"
      ],
      "metadata": {
        "id": "gZ6gphgx1Z1N"
      },
      "execution_count": null,
      "outputs": []
    },
    {
      "cell_type": "code",
      "source": [
        "ALPHA = 70\n",
        "BETA = 80\n",
        "POPULATION_SIZE = 20\n",
        "NUM_NODES = 10\n",
        "NUM_ITERATIONS = 1000"
      ],
      "metadata": {
        "id": "C97QzjROygt4"
      },
      "execution_count": null,
      "outputs": []
    },
    {
      "cell_type": "code",
      "source": [
        "actual_solution = [i for i in range(NUM_NODES)]\n",
        "random.shuffle(actual_solution)\n",
        "actual_solution = Solution(actual_solution)"
      ],
      "metadata": {
        "id": "Gz27AScg78gG"
      },
      "execution_count": null,
      "outputs": []
    },
    {
      "cell_type": "code",
      "source": [
        "tsp = TSP.gen_random_TSP(NUM_NODES, actual_solution)\n",
        "particles = [Particle.gen_random_Particle(NUM_NODES, tsp) for _ in range(POPULATION_SIZE)]\n",
        "g_best_fitness = particles[0].get_fitness()\n",
        "g_best, g_best_fitness = get_g_best(particles, (particles[0], g_best_fitness))"
      ],
      "metadata": {
        "id": "4o3Bho_gzCsX"
      },
      "execution_count": null,
      "outputs": []
    },
    {
      "cell_type": "code",
      "source": [
        "print(\"Initial Particles: \")\n",
        "for particle in particles:\n",
        "  print(particle)\n",
        "print(f\"Best Solution: {g_best}, Fitness: {g_best_fitness}\")"
      ],
      "metadata": {
        "id": "5E7jfb2JICui"
      },
      "execution_count": null,
      "outputs": []
    },
    {
      "cell_type": "code",
      "source": [
        "for i in range(NUM_ITERATIONS):\n",
        "  for particle in particles:\n",
        "    particle.update_velocity(g_best, ALPHA, BETA)\n",
        "    particle.update_position(tsp)\n",
        "    g_best, g_best_fitness = get_g_best(particles, (g_best, g_best_fitness))\n",
        "  print(f\"Iteration {i}, Best Solution: {g_best}, Fitness: {g_best_fitness}\")"
      ],
      "metadata": {
        "id": "bi_Psrnn3EE8"
      },
      "execution_count": null,
      "outputs": []
    },
    {
      "cell_type": "code",
      "source": [
        "print(actual_solution)\n",
        "print(g_best)"
      ],
      "metadata": {
        "id": "pBxp-69pz29v"
      },
      "execution_count": null,
      "outputs": []
    }
  ]
}